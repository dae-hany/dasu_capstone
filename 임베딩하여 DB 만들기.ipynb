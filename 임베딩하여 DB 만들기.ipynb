{
 "cells": [
  {
   "cell_type": "markdown",
   "metadata": {},
   "source": [
    "# 1. 커리큘럼 데이터 임베딩하여 db 만들기"
   ]
  },
  {
   "cell_type": "code",
   "execution_count": 15,
   "metadata": {},
   "outputs": [],
   "source": [
    "import pandas as pd \n",
    "\n",
    "years = [2021, 2022, 2023, 2024, 2025]\n",
    "\n",
    "df_인공지능학부 = list()\n",
    "df_인공지능전공 = list()\n",
    "df_소프트웨어전공 = list()\n",
    "\n",
    "for year in years:\n",
    "    df1 = pd.read_csv(f\"{year} 인공지능학부 커리큘럼.csv\")\n",
    "    df_인공지능학부.append(df1)\n",
    "\n",
    "    df2 = pd.read_csv(f\"{year} 인공지능전공 커리큘럼.csv\")\n",
    "    df_인공지능전공.append(df2)\n",
    "\n",
    "    df3 = pd.read_csv(f\"{year} 소프트웨어전공 커리큘럼.csv\")\n",
    "    df_소프트웨어전공.append(df3)"
   ]
  },
  {
   "cell_type": "code",
   "execution_count": 16,
   "metadata": {},
   "outputs": [],
   "source": [
    "df4 = pd.read_csv(\"2025 정보보안전공 커리큘럼.csv\")\n",
    "df5 = pd.read_csv(\"2024 정보보안전공 커리큘럼.csv\")\n",
    "\n",
    "df_정보보안전공 = [df4, df5]"
   ]
  },
  {
   "cell_type": "code",
   "execution_count": 17,
   "metadata": {},
   "outputs": [],
   "source": [
    "def make_embedding_text(df):\n",
    "    df['임베딩 텍스트'] = df['교과목명'] + \" (\" + df['학년'] + \" \" + df['학기'] + \", \" + df['과목구분'] + \")\""
   ]
  },
  {
   "cell_type": "code",
   "execution_count": 51,
   "metadata": {},
   "outputs": [
    {
     "data": {
      "text/plain": [
       "17"
      ]
     },
     "execution_count": 51,
     "metadata": {},
     "output_type": "execute_result"
    }
   ],
   "source": [
    "df_curriculum = df_인공지능학부 + df_인공지능전공 + df_소프트웨어전공 + df_정보보안전공\n",
    "len(df_curriculum)"
   ]
  },
  {
   "cell_type": "code",
   "execution_count": 19,
   "metadata": {},
   "outputs": [],
   "source": [
    "for df in df_curriculum:\n",
    "    make_embedding_text(df)"
   ]
  },
  {
   "cell_type": "code",
   "execution_count": 20,
   "metadata": {},
   "outputs": [],
   "source": [
    "from sentence_transformers import SentenceTransformer\n",
    "import faiss\n",
    "import numpy as np\n",
    "\n",
    "model = SentenceTransformer(\"all-MiniLM-L6-v2\")\n",
    "\n",
    "# 임베딩 생성\n",
    "for i, df in enumerate(df_curriculum):\n",
    "    embeddings = model.encode(df['임베딩 텍스트'].tolist(), convert_to_tensor=True)\n",
    "    dimension = embeddings.shape[1]\n",
    "    index = faiss.IndexFlatL2(dimension)\n",
    "    index.add(np.array(embeddings.cpu()))  # FAISS에 벡터 추가\n",
    "    faiss.write_index(index, f\"curriculum_faiss_{i+1}.index\")\n"
   ]
  },
  {
   "cell_type": "markdown",
   "metadata": {},
   "source": [
    "# 질문 받기"
   ]
  },
  {
   "cell_type": "code",
   "execution_count": 66,
   "metadata": {},
   "outputs": [],
   "source": [
    "from sentence_transformers import SentenceTransformer\n",
    "import faiss\n",
    "import numpy as np\n",
    "import pandas as pd\n",
    "\n",
    "# 🔹 Step 1: 사전 준비 (모델 및 인덱스 로드)\n",
    "embedding_model = SentenceTransformer(\"all-MiniLM-L6-v2\")\n",
    "\n",
    "# 🔹 Step 2: FAISS 인덱스 파일 로드\n",
    "index_files = [\n",
    "    \"curriculum_faiss_1.index\", \"curriculum_faiss_2.index\", \"curriculum_faiss_3.index\",\n",
    "    \"curriculum_faiss_4.index\", \"curriculum_faiss_5.index\", \"curriculum_faiss_6.index\",\n",
    "    \"curriculum_faiss_7.index\", \"curriculum_faiss_8.index\", \"curriculum_faiss_9.index\",\n",
    "    \"curriculum_faiss_10.index\", \"curriculum_faiss_11.index\", \"curriculum_faiss_12.index\",\n",
    "    \"curriculum_faiss_13.index\", \"curriculum_faiss_14.index\", \"curriculum_faiss_15.index\",\n",
    "    \"curriculum_faiss_16.index\", \"curriculum_faiss_17.index\"\n",
    "]\n",
    "\n",
    "indexes = [faiss.read_index(f) for f in index_files]  # 여러 개의 FAISS 인덱스 로드\n",
    "index = faiss.IndexFlatL2(indexes[0].d)  # 새로운 통합 인덱스 생성\n",
    "index = faiss.IndexIDMap(index)"
   ]
  },
  {
   "cell_type": "code",
   "execution_count": 67,
   "metadata": {},
   "outputs": [],
   "source": [
    "# 🔹 Step 3: 원본 커리큘럼 데이터 로드 (문서 ID → 교과목 매칭)\n",
    "df_files = [\n",
    "    \"2021 인공지능학부 커리큘럼.csv\", \"2022 인공지능학부 커리큘럼.csv\", \"2023 인공지능학부 커리큘럼.csv\", \"2024 인공지능학부 커리큘럼.csv\", \"2025 인공지능학부 커리큘럼.csv\",\n",
    "    \"2021 인공지능전공 커리큘럼.csv\", \"2022 인공지능전공 커리큘럼.csv\", \"2023 인공지능전공 커리큘럼.csv\", \"2024 인공지능전공 커리큘럼.csv\", \"2025 인공지능전공 커리큘럼.csv\",\n",
    "    \"2021 소프트웨어전공 커리큘럼.csv\", \"2022 소프트웨어전공 커리큘럼.csv\", \"2023 소프트웨어전공 커리큘럼.csv\", \"2024 소프트웨어전공 커리큘럼.csv\", \"2025 소프트웨어전공 커리큘럼.csv\",\n",
    "    \"2024 정보보안전공 커리큘럼.csv\", \"2025 정보보안전공 커리큘럼.csv\"\n",
    "]\n",
    "df_curriculum = [pd.read_csv(f) for f in df_files]"
   ]
  },
  {
   "cell_type": "code",
   "execution_count": 85,
   "metadata": {},
   "outputs": [],
   "source": [
    "# 🔹 Step 4: 검색 함수 정의\n",
    "def search_faiss(query: str, top_k: int = 5):\n",
    "    \"\"\"FAISS에서 가장 유사한 커리큘럼을 검색하여 반환\"\"\"\n",
    "    query_vector = embedding_model.encode(query).astype(np.float32).reshape(1, -1)  # 쿼리 벡터 변환\n",
    "    D, I = index.search(query_vector, top_k)  # FAISS에서 검색\n",
    "    \n",
    "    results = []\n",
    "    for score, idx in zip(D[0], I[0]):\n",
    "        results.append((idx, score))  # (문서 ID, 유사도 점수)\n",
    "    \n",
    "    return results"
   ]
  },
  {
   "cell_type": "code",
   "execution_count": 90,
   "metadata": {},
   "outputs": [
    {
     "data": {
      "text/plain": [
       "[(-1, 3.4028235e+38),\n",
       " (-1, 3.4028235e+38),\n",
       " (-1, 3.4028235e+38),\n",
       " (-1, 3.4028235e+38),\n",
       " (-1, 3.4028235e+38)]"
      ]
     },
     "execution_count": 90,
     "metadata": {},
     "output_type": "execute_result"
    }
   ],
   "source": [
    "search_faiss(\"인공지능 교과목 수강 신청\")"
   ]
  },
  {
   "cell_type": "code",
   "execution_count": 41,
   "metadata": {},
   "outputs": [],
   "source": [
    "# 🔹 Step 3: 임베딩 모델 로드\n",
    "embedding_model = SentenceTransformer(\"all-MiniLM-L6-v2\")\n",
    "\n",
    "# 🔹 Step 4: 검색 함수 정의\n",
    "def search_faiss(query: str, top_k: int = 5):\n",
    "    \"\"\"FAISS 인덱스에서 가장 유사한 문서 검색\"\"\"\n",
    "    query_vector = embedding_model.encode(query).astype(np.float32).reshape(1, -1)  # 쿼리 벡터 변환\n",
    "    D, I = index.search(query_vector, top_k)  # FAISS에서 검색\n",
    "    \n",
    "    results = []\n",
    "    for score, idx in zip(D[0], I[0]):\n",
    "        if idx != -1:\n",
    "            results.append((idx, score))  # (문서 ID, 유사도 점수)\n",
    "    \n",
    "    return results"
   ]
  },
  {
   "cell_type": "code",
   "execution_count": 59,
   "metadata": {},
   "outputs": [],
   "source": [
    "import ollama \n",
    "\n",
    "# 🔹 Step 6: Ollama 기반 LLM 챗봇\n",
    "def rag_ollama_chat(query: str, top_k: int = 5):\n",
    "    \"\"\"사용자의 질문을 FAISS로 검색하고 Ollama가 응답\"\"\"\n",
    "\n",
    "    # 🔹 Step 6-1: FAISS에서 검색\n",
    "    search_results = search_faiss(query, top_k)\n",
    "\n",
    "    if not search_results:\n",
    "        return \"죄송합니다. 관련된 커리큘럼을 찾을 수 없습니다.\"\n",
    "\n",
    "    # 🔹 Step 6-2: 검색된 문서 내용을 불러오기\n",
    "    retrieved_docs = []\n",
    "    for doc_id, score in search_results:\n",
    "        for df in df_curriculum:\n",
    "            if doc_id < len(df):  # 문서 ID가 유효한 경우\n",
    "                subject_info = df.iloc[doc_id]  # 해당 교과목 정보 가져오기\n",
    "                doc_text = (\n",
    "                    f\"- {subject_info['교과목명']} ({subject_info['학년']}학년 {subject_info['학기']}학기, {subject_info['과목구분']})\"\n",
    "                )\n",
    "                retrieved_docs.append(doc_text)\n",
    "\n",
    "    # 🔹 Step 6-3: LLM 프롬프트 생성\n",
    "    retrieved_text = \"\\n\".join(retrieved_docs)\n",
    "    prompt = f\"\"\"\n",
    "    🔍 다음 교과목 정보를 참고하여 사용자의 질문에 답변해 주세요:\n",
    "\n",
    "    {retrieved_text}\n",
    "\n",
    "    질문: {query}\n",
    "    \"\"\"\n",
    "\n",
    "    # 🔹 Step 6-4: Ollama LLM 호출\n",
    "    response = ollama.chat(model=\"tinyllama\", messages=[{\"role\": \"user\", \"content\": prompt}])\n",
    "    \n",
    "    return response[\"message\"][\"content\"]"
   ]
  },
  {
   "cell_type": "code",
   "execution_count": 60,
   "metadata": {},
   "outputs": [
    {
     "name": "stdout",
     "output_type": "stream",
     "text": [
      "Ollama RAG 챗봇 응답:\n",
      "죄송합니다. 관련된 커리큘럼을 찾을 수 없습니다.\n"
     ]
    }
   ],
   "source": [
    "# 🔹 Step 6: 챗봇 테스트\n",
    "query_text = \"인공지능학부 딥러닝 관련 과목을 알려줘\"\n",
    "response = rag_ollama_chat(query_text)\n",
    "\n",
    "print(\"Ollama RAG 챗봇 응답:\")\n",
    "print(response)"
   ]
  },
  {
   "cell_type": "code",
   "execution_count": null,
   "metadata": {},
   "outputs": [],
   "source": []
  }
 ],
 "metadata": {
  "kernelspec": {
   "display_name": "dasu_capstone",
   "language": "python",
   "name": "python3"
  },
  "language_info": {
   "codemirror_mode": {
    "name": "ipython",
    "version": 3
   },
   "file_extension": ".py",
   "mimetype": "text/x-python",
   "name": "python",
   "nbconvert_exporter": "python",
   "pygments_lexer": "ipython3",
   "version": "3.10.16"
  }
 },
 "nbformat": 4,
 "nbformat_minor": 2
}
